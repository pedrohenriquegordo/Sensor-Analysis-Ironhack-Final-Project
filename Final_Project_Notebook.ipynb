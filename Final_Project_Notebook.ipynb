{
 "cells": [
  {
   "cell_type": "markdown",
   "id": "330b7eed",
   "metadata": {},
   "source": [
    "# <center> Libs"
   ]
  },
  {
   "cell_type": "code",
   "execution_count": 1,
   "id": "d56450e5",
   "metadata": {},
   "outputs": [],
   "source": [
    "import os\n",
    "import pandas as pd\n",
    "import numpy as np\n",
    "import json\n",
    "from joblib import Parallel, delayed\n",
    "from pandas.io.json import json_normalize\n",
    "import warnings\n",
    "warnings.filterwarnings('ignore')\n",
    "\n",
    "from datetime import datetime\n",
    "\n",
    "import matplotlib.pyplot as plt\n",
    "import seaborn as sns\n",
    "from matplotlib.animation import FuncAnimation\n",
    "from IPython.display import HTML"
   ]
  },
  {
   "cell_type": "markdown",
   "id": "3abc4103",
   "metadata": {},
   "source": [
    "# <center> FUNCTIONS AREA"
   ]
  },
  {
   "cell_type": "code",
   "execution_count": 2,
   "id": "5f72bf4a",
   "metadata": {},
   "outputs": [],
   "source": [
    "def split_description(x):\n",
    "    local,date_time=x.split(' @ ')\n",
    "    return local,date_time\n",
    "\n",
    "def split_index(x):\n",
    "    date,time=x.split(' ')\n",
    "    time,trash=time.split('+')\n",
    "    return date,time\n",
    "\n",
    "def convert_column_json_to_dict(column):\n",
    "    column=column.apply(lambda x:json.loads(x))\n",
    "    return column\n",
    "\n",
    "def extract_dfs(data):\n",
    "    data['info']=convert_column_json_to_dict(data['info'])\n",
    "\n",
    "    temp_dfs=[]\n",
    "    for i in range(len(data['info'])):\n",
    "        short_df = pd.DataFrame.from_dict(data['info'][i], orient='index').T\n",
    "        temp_dfs.append(short_df)\n",
    "    temp_df = pd.concat(temp_dfs, axis=0, ignore_index=True)\n",
    "    temp_df.index=data['date']\n",
    "\n",
    "    system_status=temp_df[['device','state']]\n",
    "    system_status=system_status.dropna(subset=['device','state'])\n",
    "    \n",
    "\n",
    "    thp_sensors=temp_df[['temperature','linkquality','humidity','pressure']]\n",
    "    thp_sensors=thp_sensors.dropna(subset=['temperature','linkquality'])\n",
    "\n",
    "\n",
    "    dw_sensors=temp_df[['contact','linkquality','battery','voltage']]\n",
    "    dw_sensors=dw_sensors.dropna(subset=['contact','linkquality'])\n",
    "\n",
    "\n",
    "    motion_sensors=temp_df[['illuminance','linkquality','occupancy','battery','voltage']]\n",
    "    motion_sensors=motion_sensors.dropna(subset=['illuminance','linkquality'])\n",
    "\n",
    "\n",
    "    met_cond=temp_df[['pressure','windspeed','description','precipitation','winddirection','humidity','temperature']]\n",
    "    met_cond=met_cond.dropna(subset=['windspeed','humidity','temperature'])\n",
    "\n",
    "\n",
    "    met_cond[['local','date_time']]=met_cond['description'].apply(lambda x: pd.Series(split_description(x)))\n",
    "    met_cond=met_cond.drop('description',axis=1)\n",
    "    \n",
    "    dfs=[system_status,thp_sensors,dw_sensors,motion_sensors,met_cond]\n",
    "    \n",
    "    return dfs"
   ]
  },
  {
   "cell_type": "markdown",
   "id": "57c4c720",
   "metadata": {},
   "source": [
    "# <center> Fetching data"
   ]
  },
  {
   "cell_type": "markdown",
   "id": "8a54562f",
   "metadata": {},
   "source": [
    "### Get the files"
   ]
  },
  {
   "cell_type": "code",
   "execution_count": 3,
   "id": "aea888ad",
   "metadata": {},
   "outputs": [
    {
     "data": {
      "text/plain": [
       "['sgh02015d5c61cc.csv',\n",
       " 'sgh020149c615c5.csv',\n",
       " 'sgh020125bce03a.csv',\n",
       " 'sgh02019d93db3f.csv',\n",
       " 'sgh0201a17a7a16.csv',\n",
       " 'sgh02018fe9be2c.csv',\n",
       " 'sgh020177a7a91d.csv',\n",
       " 'sgh020102d29c86.csv',\n",
       " 'sgh020114a6a800.csv']"
      ]
     },
     "execution_count": 3,
     "metadata": {},
     "output_type": "execute_result"
    }
   ],
   "source": [
    "path='/Users/pedro/Desktop/Ironhack/Final-Project/dataverse_files/'\n",
    "files=os.listdir(path)\n",
    "files=[file for file in files if file.endswith('.csv')]\n",
    "files"
   ]
  },
  {
   "cell_type": "markdown",
   "id": "807f083f",
   "metadata": {},
   "source": [
    "### Create a dicionary to access the files more easily"
   ]
  },
  {
   "cell_type": "code",
   "execution_count": 4,
   "id": "210eb2c9",
   "metadata": {},
   "outputs": [
    {
     "data": {
      "text/plain": [
       "{0: 'sgh02015d5c61cc',\n",
       " 1: 'sgh020149c615c5',\n",
       " 2: 'sgh020125bce03a',\n",
       " 3: 'sgh02019d93db3f',\n",
       " 4: 'sgh0201a17a7a16',\n",
       " 5: 'sgh02018fe9be2c',\n",
       " 6: 'sgh020177a7a91d',\n",
       " 7: 'sgh020102d29c86',\n",
       " 8: 'sgh020114a6a800'}"
      ]
     },
     "execution_count": 4,
     "metadata": {},
     "output_type": "execute_result"
    }
   ],
   "source": [
    "file_key={}\n",
    "for i,file in enumerate(files):\n",
    "    name,trash=file.split('.')\n",
    "    file_key[i]=name\n",
    "file_key"
   ]
  },
  {
   "cell_type": "markdown",
   "id": "e0a03be3",
   "metadata": {},
   "source": [
    "# <center> CLEANING AREA"
   ]
  },
  {
   "cell_type": "markdown",
   "id": "40db09fd",
   "metadata": {},
   "source": [
    "### Create a dicionary to store the dfs grouped by files"
   ]
  },
  {
   "cell_type": "code",
   "execution_count": null,
   "id": "0cae9a83",
   "metadata": {},
   "outputs": [],
   "source": [
    "dfs_dict={}\n",
    "for i, file in enumerate(files):\n",
    "    name,trash=file.split('.')\n",
    "    data=pd.read_csv(path+file)\n",
    "    dfs_dict[name]=extract_dfs(data)"
   ]
  },
  {
   "cell_type": "markdown",
   "id": "c53ec8de",
   "metadata": {},
   "source": [
    "\n",
    "\n",
    "files_dict [file_key [ i ] ]   [ 0 ]   **system_status**\n",
    "\n",
    "files_dict [file_key [ i ] ]   [ 1 ]   **thp_sensors**\n",
    "\n",
    "files_dict [file_key [ i ] ]   [ 2 ]   **dw_sensors**\n",
    "\n",
    "files_dict [file_key [ i ] ]   [ 3 ]   **motion_sensors**\n",
    "\n",
    "files_dict [file_key [ i ] ]   [ 4 ]   **met_cond**\n",
    "\n"
   ]
  },
  {
   "cell_type": "markdown",
   "id": "522e3422",
   "metadata": {},
   "source": [
    "### Seperate the index (date-time) into columns date and time"
   ]
  },
  {
   "cell_type": "code",
   "execution_count": null,
   "id": "0409c33f",
   "metadata": {},
   "outputs": [],
   "source": [
    "for i in range(0,9):\n",
    "    for j in range(0,5):\n",
    "        df=dfs_dict[file_key[i]][j]\n",
    "        df['index_']=list(df.index)\n",
    "        df[['date','time']]=df['index_'].apply(lambda x: pd.Series(split_index(x)))\n",
    "        df.drop('index_', axis=1, inplace=True)\n",
    "        df.reset_index(drop=True, inplace=True)\n",
    "        if 'date_time' in df.columns:\n",
    "            df.drop('date_time', axis=1, inplace=True)"
   ]
  },
  {
   "cell_type": "markdown",
   "id": "a863f1e9",
   "metadata": {},
   "source": [
    "### Correcting local names"
   ]
  },
  {
   "cell_type": "code",
   "execution_count": null,
   "id": "001afdf8",
   "metadata": {},
   "outputs": [],
   "source": [
    "local=[]\n",
    "for i in range(0,9):\n",
    "    df=dfs_dict[file_key[i]][4]\n",
    "    temp_list=df['local'].unique()\n",
    "    for i in temp_list:\n",
    "        if i not in local:\n",
    "            local.append(i)\n",
    "local"
   ]
  },
  {
   "cell_type": "code",
   "execution_count": null,
   "id": "23298528",
   "metadata": {},
   "outputs": [],
   "source": [
    "correct_local={'Coimbra (Aeru00f3dromo)': 'Coimbra (Aeródromo)',\n",
    "            'Lousu00e3 (Aeru00f3dromo)': 'Lousã (Aeródromo)',\n",
    "            'Braganu00e7a': 'Bragança',\n",
    "            'Chaves (Aeru00f3dromo)': 'Chaves (Aeródromo)'}\n",
    "\n",
    "for i in range(0,9):\n",
    "    df=dfs_dict[file_key[i]][4]\n",
    "    df['local']=df['local'].replace(correct_local)"
   ]
  },
  {
   "cell_type": "markdown",
   "id": "67f6011c",
   "metadata": {},
   "source": [
    "### Identify the dfs to concat them"
   ]
  },
  {
   "cell_type": "code",
   "execution_count": null,
   "id": "bf4874b3",
   "metadata": {},
   "outputs": [],
   "source": [
    "for i in range(0,9):\n",
    "    for j in range(0,5):\n",
    "        df=dfs_dict[file_key[i]][j]\n",
    "        df.insert(loc=0, column='tenant', value=file_key[i])\n",
    "        df.insert(loc=0, column='tenant_id', value=i)"
   ]
  },
  {
   "cell_type": "code",
   "execution_count": null,
   "id": "74c0bf6e",
   "metadata": {},
   "outputs": [],
   "source": [
    "dfs_dict[file_key[8]][1]"
   ]
  },
  {
   "cell_type": "markdown",
   "id": "2b550577",
   "metadata": {},
   "source": [
    "### Concating the dfs by type"
   ]
  },
  {
   "cell_type": "code",
   "execution_count": null,
   "id": "910c3855",
   "metadata": {},
   "outputs": [],
   "source": [
    "system_status_dfs=[]\n",
    "thp_sensors_dfs=[]\n",
    "dw_sensors_dfs=[]\n",
    "motion_sensors_dfs=[]\n",
    "met_cond_dfs=[]\n",
    "\n",
    "for i in range(0,9):\n",
    "    system_status_dfs.append(dfs_dict[file_key[i]][0])\n",
    "    thp_sensors_dfs.append(dfs_dict[file_key[i]][1])\n",
    "    dw_sensors_dfs.append(dfs_dict[file_key[i]][2])\n",
    "    motion_sensors_dfs.append(dfs_dict[file_key[i]][3])\n",
    "    met_cond_dfs.append(dfs_dict[file_key[i]][4])   \n",
    "    \n",
    "    \n",
    "system_status=pd.concat(system_status_dfs)\n",
    "thp_sensors=pd.concat(thp_sensors_dfs)\n",
    "dw_sensors=pd.concat(dw_sensors_dfs)\n",
    "motion_sensors=pd.concat(motion_sensors_dfs)\n",
    "met_cond=pd.concat(met_cond_dfs)"
   ]
  },
  {
   "cell_type": "code",
   "execution_count": null,
   "id": "369f59ca",
   "metadata": {},
   "outputs": [],
   "source": [
    "#df=system_status.copy()\n",
    "#df=thp_sensors.copy()\n",
    "#df=dw_sensors.copy()\n",
    "#df=motion_sensors.copy()\n",
    "df=met_cond.copy()\n",
    "df"
   ]
  },
  {
   "cell_type": "markdown",
   "id": "75b33d6c",
   "metadata": {},
   "source": [
    "# <center> EDA AREA"
   ]
  },
  {
   "cell_type": "code",
   "execution_count": null,
   "id": "65009b10",
   "metadata": {},
   "outputs": [],
   "source": [
    "def filter_date(df,date):\n",
    "    days=df['date']\n",
    "    return df[df['date'] == date]\n",
    "\n",
    "def filter_df(df,column,filter_):\n",
    "    return df[df[column] == filter_]"
   ]
  },
  {
   "cell_type": "code",
   "execution_count": null,
   "id": "d7aaaba4",
   "metadata": {},
   "outputs": [],
   "source": []
  },
  {
   "cell_type": "code",
   "execution_count": null,
   "id": "fd70a33b",
   "metadata": {},
   "outputs": [],
   "source": []
  },
  {
   "cell_type": "code",
   "execution_count": null,
   "id": "c4af493b",
   "metadata": {},
   "outputs": [],
   "source": []
  },
  {
   "cell_type": "code",
   "execution_count": null,
   "id": "3ddbefd3",
   "metadata": {},
   "outputs": [],
   "source": []
  },
  {
   "cell_type": "code",
   "execution_count": null,
   "id": "5d5e9823",
   "metadata": {},
   "outputs": [],
   "source": []
  },
  {
   "cell_type": "code",
   "execution_count": null,
   "id": "516491e1",
   "metadata": {},
   "outputs": [],
   "source": []
  },
  {
   "cell_type": "code",
   "execution_count": null,
   "id": "b469166a",
   "metadata": {},
   "outputs": [],
   "source": []
  },
  {
   "cell_type": "code",
   "execution_count": null,
   "id": "18d39b93",
   "metadata": {},
   "outputs": [],
   "source": []
  },
  {
   "cell_type": "code",
   "execution_count": null,
   "id": "61a9b8bf",
   "metadata": {},
   "outputs": [],
   "source": []
  },
  {
   "cell_type": "code",
   "execution_count": null,
   "id": "c139af2e",
   "metadata": {},
   "outputs": [],
   "source": []
  },
  {
   "cell_type": "code",
   "execution_count": null,
   "id": "5ac6197e",
   "metadata": {},
   "outputs": [],
   "source": []
  },
  {
   "cell_type": "code",
   "execution_count": null,
   "id": "14faf849",
   "metadata": {},
   "outputs": [],
   "source": []
  },
  {
   "cell_type": "code",
   "execution_count": null,
   "id": "85778839",
   "metadata": {},
   "outputs": [],
   "source": []
  },
  {
   "cell_type": "code",
   "execution_count": null,
   "id": "d6870882",
   "metadata": {},
   "outputs": [],
   "source": []
  },
  {
   "cell_type": "code",
   "execution_count": null,
   "id": "6fa423b6",
   "metadata": {},
   "outputs": [],
   "source": []
  },
  {
   "cell_type": "code",
   "execution_count": null,
   "id": "6255c63d",
   "metadata": {},
   "outputs": [],
   "source": []
  },
  {
   "cell_type": "markdown",
   "id": "d3c2df1e",
   "metadata": {},
   "source": [
    "# Create functions to plot more easily"
   ]
  },
  {
   "cell_type": "code",
   "execution_count": null,
   "id": "9727de36",
   "metadata": {},
   "outputs": [],
   "source": [
    "def plotplot(df,x,y):\n",
    "    fig=plt.plot(df[x], df[y])\n",
    "    plt.xlabel(x)\n",
    "    plt.ylabel(y)\n",
    "    return plt.show()\n",
    "\n",
    "def barplot(df,x,y):\n",
    "    fig=plt.bar(df[x], df[y])\n",
    "    plt.xlabel(x)\n",
    "    plt.ylabel(y)\n",
    "    return plt.show()\n",
    "\n",
    "def scatterplot(df,x,y):\n",
    "    df=df.dropna()\n",
    "    fig=plt.scatter(df[x], df[y],color='blue',alpha=0.7)\n",
    "    fig=plt.scatter(df[x], df[y],color='yellow',alpha=0.15)\n",
    "    fig=plt.scatter(df[x], df[y],color='red',alpha=0.05)\n",
    "    plt.xlabel(x)\n",
    "    plt.ylabel(y)\n",
    "    return plt.show()"
   ]
  },
  {
   "cell_type": "raw",
   "id": "eb50bb9b",
   "metadata": {},
   "source": [
    "g=sns.PairGrid(df, hue='winddirection', corner=True)\n",
    "g.map_lower(sns.kdeplot, hue=None, levels=5, color=\".2\")\n",
    "g.map_lower(sns.scatterplot, marker=\"+\")\n",
    "g.map_diag(sns.histplot, element=\"step\", linewidth=0, kde=True)\n",
    "g.add_legend(frameon=True)\n",
    "plt.figure(figsize=(15, 15))"
   ]
  }
 ],
 "metadata": {
  "kernelspec": {
   "display_name": "Python 3 (ipykernel)",
   "language": "python",
   "name": "python3"
  },
  "language_info": {
   "codemirror_mode": {
    "name": "ipython",
    "version": 3
   },
   "file_extension": ".py",
   "mimetype": "text/x-python",
   "name": "python",
   "nbconvert_exporter": "python",
   "pygments_lexer": "ipython3",
   "version": "3.9.15"
  }
 },
 "nbformat": 4,
 "nbformat_minor": 5
}
