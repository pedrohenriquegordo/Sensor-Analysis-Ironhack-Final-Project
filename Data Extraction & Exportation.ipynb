{
 "cells": [
  {
   "cell_type": "markdown",
   "id": "8aa6517f",
   "metadata": {},
   "source": [
    "------"
   ]
  },
  {
   "cell_type": "markdown",
   "id": "57c4c720",
   "metadata": {},
   "source": [
    "# <center>Data Extration & Exportation to MySQL"
   ]
  },
  {
   "cell_type": "markdown",
   "id": "b07c1bfd",
   "metadata": {},
   "source": [
    "--------"
   ]
  },
  {
   "cell_type": "code",
   "execution_count": null,
   "id": "7dd43f55",
   "metadata": {},
   "outputs": [],
   "source": [
    "import functions as f\n",
    "import os\n",
    "import pandas as pd\n",
    "import datetime"
   ]
  },
  {
   "cell_type": "markdown",
   "id": "8a54562f",
   "metadata": {},
   "source": [
    "### Get the files"
   ]
  },
  {
   "cell_type": "code",
   "execution_count": 2,
   "id": "aea888ad",
   "metadata": {},
   "outputs": [],
   "source": [
    "path='/Users/pedro/Desktop/Ironhack/Final-Project/dataverse_files/'\n",
    "files=os.listdir(path)\n",
    "files=[file for file in files if file.endswith('.csv')]"
   ]
  },
  {
   "cell_type": "code",
   "execution_count": 3,
   "id": "210eb2c9",
   "metadata": {},
   "outputs": [],
   "source": [
    "tenant_key={}\n",
    "for i,file in enumerate(files):\n",
    "    name,trash=file.split('.')\n",
    "    name=name[3:]\n",
    "    tenant_key[i]=name\n",
    "\n",
    "invert_tenant_key={value: key for key, value in tenant_key.items()}"
   ]
  },
  {
   "cell_type": "code",
   "execution_count": 4,
   "id": "faca2c2f",
   "metadata": {},
   "outputs": [],
   "source": [
    "tenant_table=pd.DataFrame({'tenant':['020102d29c86','020114a6a800','020125bce03a','020149c615c5','02015d5c61cc',\n",
    "                    '020177a7a91d','02018fe9be2c','02019d93db3f','0201a17a7a16','0201a8c87da4',\n",
    "                    '0201b9b7d045','0201e9248493','0201f6cb55ed'],\n",
    "                    'city':['Aveiro','Aveiro','Lamego','Aveiro','Aveiro','Aveiro','Lamego',\n",
    "                            'Aveiro','Lamego','Aveiro','Aveiro','Aveiro','Aveiro'],\n",
    "                    'start_date':['10-07-2019','02-04-2019','01-03-2019','04-03-2019','01-03-2019',\n",
    "                                 '01-03-2019','03-03-2019','02-03-2019','02-04-2019','01-03-2019',\n",
    "                                  '10-07-2019','01-03-2019','02-04-2019'],\n",
    "                    'end_date':['02-01-2020','02-04-2020','28-02-2020','23-11-2020','13-12-2019',\n",
    "                               '22-10-2020','23-11-2020','14-03-2020','02-10-2019','23-11-2020',\n",
    "                               '23-11-2020','23-06-2020','23-11-2020'],\n",
    "                    'rate_of_hours_with_at_least_one_log':['41%','69%','87%','62%','78%','74%',\n",
    "                                                          '79%','67%','33%','81%','70%','72%','80%']})"
   ]
  },
  {
   "cell_type": "code",
   "execution_count": 5,
   "id": "29db2f9b",
   "metadata": {},
   "outputs": [],
   "source": [
    "tenant_table=tenant_table[tenant_table['tenant'].isin(list(tenant_key.values()))]\n",
    "tenant_id=tenant_table['tenant'].map(invert_tenant_key)\n",
    "tenant_table.insert(loc=0,column='tenant_id', value=tenant_id)\n",
    "tenant_table.sort_values(by='tenant_id',inplace=True)"
   ]
  },
  {
   "cell_type": "markdown",
   "id": "ad14eed1",
   "metadata": {},
   "source": [
    "## Raw Data Extration"
   ]
  },
  {
   "cell_type": "code",
   "execution_count": 7,
   "id": "0cae9a83",
   "metadata": {},
   "outputs": [],
   "source": [
    "raw_data={}\n",
    "for i, file in enumerate(files):\n",
    "    name,trash=file.split('.')\n",
    "    name=name[3:]\n",
    "    data=f.pd.read_csv(path+file)\n",
    "    raw_data[name]=f.extract_dfs(data)"
   ]
  },
  {
   "cell_type": "markdown",
   "id": "c53ec8de",
   "metadata": {},
   "source": [
    "\n",
    "\n",
    "raw_data [tenant_key [ i ] ]   [ 0 ]   **feedback**\n",
    "\n",
    "raw_data [tenant_key [ i ] ]   [ 1 ]   **thp_sensors**\n",
    "\n",
    "raw_data [tenant_key [ i ] ]   [ 2 ]   **dw_sensors**\n",
    "\n",
    "raw_data [tenant_key [ i ] ]   [ 3 ]   **motion_sensors**\n",
    "\n",
    "raw_data [tenant_key [ i ] ]   [ 4 ]   **met_cond**\n",
    "\n",
    "i represents the tenant_id"
   ]
  },
  {
   "cell_type": "markdown",
   "id": "18aabfb1",
   "metadata": {},
   "source": [
    "--------"
   ]
  },
  {
   "cell_type": "code",
   "execution_count": 8,
   "id": "4bf0aba2",
   "metadata": {},
   "outputs": [],
   "source": [
    "for i in range(0, 9):\n",
    "    for j in range(0, 5):\n",
    "        df = raw_data[tenant_key[i]][j]\n",
    "        df['date'], df['time'] = zip(*df.index.map(f.split_index))\n",
    "        df['date'] = pd.Series(df['date'], index=df.index)\n",
    "        df['time'] = pd.Series(df['time'], index=df.index)\n",
    "        df = f.date_time_magic(df)\n",
    "        df.reset_index(drop=True, inplace=True)\n",
    "        df.insert(0, 'tenant_id', i)\n",
    "        \n",
    "        raw_data[tenant_key[i]][j] = df"
   ]
  },
  {
   "cell_type": "markdown",
   "id": "5d9a7857",
   "metadata": {},
   "source": [
    "### Concatenate the DataFrames by type"
   ]
  },
  {
   "cell_type": "code",
   "execution_count": 13,
   "id": "a2051b91",
   "metadata": {},
   "outputs": [],
   "source": [
    "feedback_dfs=[]\n",
    "thp_sensors_dfs=[]\n",
    "dw_sensors_dfs=[]\n",
    "motion_sensors_dfs=[]\n",
    "met_cond_dfs=[]\n",
    "\n",
    "\n",
    "for i in range(9):\n",
    "    df1=raw_data[tenant_key[i]][0]\n",
    "    df2=raw_data[tenant_key[i]][1]\n",
    "    df3=raw_data[tenant_key[i]][2]\n",
    "    df4=raw_data[tenant_key[i]][3]\n",
    "    df5=raw_data[tenant_key[i]][4]\n",
    "    \n",
    "    feedback_dfs.append(df1)\n",
    "    thp_sensors_dfs.append(df2)\n",
    "    dw_sensors_dfs.append(df3)\n",
    "    motion_sensors_dfs.append(df4)\n",
    "    met_cond_dfs.append(df5)\n",
    "    \n",
    "    \n",
    "\n",
    "fb=pd.concat(feedback_dfs)\n",
    "thps=pd.concat(thp_sensors_dfs)\n",
    "dws=pd.concat(dw_sensors_dfs)\n",
    "ms=pd.concat(motion_sensors_dfs)\n",
    "mc=pd.concat(met_cond_dfs)\n",
    "\n",
    "final_list_dfs=[fb,thps,dws,ms,mc]\n",
    "\n",
    "for df in final_list_dfs:\n",
    "    df.reset_index(drop=True, inplace=True)"
   ]
  },
  {
   "cell_type": "code",
   "execution_count": 52,
   "id": "7e468160",
   "metadata": {},
   "outputs": [],
   "source": [
    "#met_cond\n",
    "met_cond=final_list_dfs[4].copy()\n",
    "#thp_sensors\n",
    "thp_sensors=final_list_dfs[1].copy()\n",
    "#feedback\n",
    "feedback=final_list_dfs[0].copy()\n",
    "#dw_sensors\n",
    "dw_sensors=final_list_dfs[2].copy()\n",
    "#motion_sensors\n",
    "motion_sensors=final_list_dfs[3].copy()"
   ]
  },
  {
   "cell_type": "markdown",
   "id": "d516a4bb",
   "metadata": {},
   "source": [
    "------"
   ]
  },
  {
   "cell_type": "markdown",
   "id": "3301c4b0",
   "metadata": {},
   "source": [
    "## <center> - END EXTRACTION -"
   ]
  },
  {
   "cell_type": "markdown",
   "id": "1c53134e",
   "metadata": {},
   "source": [
    "--------"
   ]
  },
  {
   "cell_type": "markdown",
   "id": "91640d27",
   "metadata": {},
   "source": [
    "# <center>Preparing Data for MySQL"
   ]
  },
  {
   "cell_type": "markdown",
   "id": "2f5777a8",
   "metadata": {},
   "source": [
    "-------"
   ]
  },
  {
   "cell_type": "markdown",
   "id": "339c586e",
   "metadata": {},
   "source": [
    "## met_cond"
   ]
  },
  {
   "cell_type": "code",
   "execution_count": 55,
   "id": "f1493a3f",
   "metadata": {},
   "outputs": [],
   "source": [
    "met_cond[['temperature','humidity','pressure']]=met_cond[['temperature','humidity','pressure']].astype(float)\n",
    "\n",
    "met_cond[['location','date_time']]=met_cond['description'].apply(lambda x: pd.Series(f.split_description(x)))\n",
    "met_cond[['time','date']]=pd.DataFrame(met_cond['date_time'].apply(lambda x: f.date_time_met_cond(x)).to_list(), index=met_cond.index)\n",
    "met_cond.drop('date_time',axis=1,inplace=True)\n",
    "\n",
    "met_cond.drop(['windspeed','description'],axis=1,inplace=True)\n"
   ]
  },
  {
   "cell_type": "code",
   "execution_count": 59,
   "id": "a323d394",
   "metadata": {},
   "outputs": [
    {
     "data": {
      "text/html": [
       "<div>\n",
       "<style scoped>\n",
       "    .dataframe tbody tr th:only-of-type {\n",
       "        vertical-align: middle;\n",
       "    }\n",
       "\n",
       "    .dataframe tbody tr th {\n",
       "        vertical-align: top;\n",
       "    }\n",
       "\n",
       "    .dataframe thead th {\n",
       "        text-align: right;\n",
       "    }\n",
       "</style>\n",
       "<table border=\"1\" class=\"dataframe\">\n",
       "  <thead>\n",
       "    <tr style=\"text-align: right;\">\n",
       "      <th></th>\n",
       "      <th>tenant_id</th>\n",
       "      <th>temperature</th>\n",
       "      <th>humidity</th>\n",
       "      <th>pressure</th>\n",
       "      <th>time</th>\n",
       "      <th>date</th>\n",
       "      <th>location</th>\n",
       "    </tr>\n",
       "  </thead>\n",
       "  <tbody>\n",
       "    <tr>\n",
       "      <th>0</th>\n",
       "      <td>0</td>\n",
       "      <td>9.7</td>\n",
       "      <td>84.0</td>\n",
       "      <td>1018.9</td>\n",
       "      <td>10:00:00</td>\n",
       "      <td>18-02-2019</td>\n",
       "      <td>Porto, P.Rubras</td>\n",
       "    </tr>\n",
       "    <tr>\n",
       "      <th>1</th>\n",
       "      <td>0</td>\n",
       "      <td>10.6</td>\n",
       "      <td>81.0</td>\n",
       "      <td>1019.3</td>\n",
       "      <td>11:00:00</td>\n",
       "      <td>18-02-2019</td>\n",
       "      <td>Porto, P.Rubras</td>\n",
       "    </tr>\n",
       "    <tr>\n",
       "      <th>2</th>\n",
       "      <td>0</td>\n",
       "      <td>13.3</td>\n",
       "      <td>65.0</td>\n",
       "      <td>1019.5</td>\n",
       "      <td>13:00:00</td>\n",
       "      <td>18-02-2019</td>\n",
       "      <td>Porto, P.Rubras</td>\n",
       "    </tr>\n",
       "    <tr>\n",
       "      <th>3</th>\n",
       "      <td>0</td>\n",
       "      <td>14.2</td>\n",
       "      <td>59.0</td>\n",
       "      <td>1019.1</td>\n",
       "      <td>15:00:00</td>\n",
       "      <td>18-02-2019</td>\n",
       "      <td>Porto, P.Rubras</td>\n",
       "    </tr>\n",
       "    <tr>\n",
       "      <th>4</th>\n",
       "      <td>0</td>\n",
       "      <td>14.0</td>\n",
       "      <td>56.0</td>\n",
       "      <td>1019.1</td>\n",
       "      <td>17:00:00</td>\n",
       "      <td>18-02-2019</td>\n",
       "      <td>Porto, P.Rubras</td>\n",
       "    </tr>\n",
       "    <tr>\n",
       "      <th>...</th>\n",
       "      <td>...</td>\n",
       "      <td>...</td>\n",
       "      <td>...</td>\n",
       "      <td>...</td>\n",
       "      <td>...</td>\n",
       "      <td>...</td>\n",
       "      <td>...</td>\n",
       "    </tr>\n",
       "    <tr>\n",
       "      <th>19838</th>\n",
       "      <td>8</td>\n",
       "      <td>15.0</td>\n",
       "      <td>76.0</td>\n",
       "      <td>NaN</td>\n",
       "      <td>22:00:00</td>\n",
       "      <td>09-10-2019</td>\n",
       "      <td>Porto, S. Gens</td>\n",
       "    </tr>\n",
       "    <tr>\n",
       "      <th>19839</th>\n",
       "      <td>8</td>\n",
       "      <td>14.8</td>\n",
       "      <td>75.0</td>\n",
       "      <td>NaN</td>\n",
       "      <td>23:00:00</td>\n",
       "      <td>09-10-2019</td>\n",
       "      <td>Porto, S. Gens</td>\n",
       "    </tr>\n",
       "    <tr>\n",
       "      <th>19840</th>\n",
       "      <td>8</td>\n",
       "      <td>18.4</td>\n",
       "      <td>91.0</td>\n",
       "      <td>NaN</td>\n",
       "      <td>11:00:00</td>\n",
       "      <td>17-10-2019</td>\n",
       "      <td>Porto, S. Gens</td>\n",
       "    </tr>\n",
       "    <tr>\n",
       "      <th>19841</th>\n",
       "      <td>8</td>\n",
       "      <td>13.6</td>\n",
       "      <td>97.0</td>\n",
       "      <td>NaN</td>\n",
       "      <td>08:00:00</td>\n",
       "      <td>18-10-2019</td>\n",
       "      <td>Porto, S. Gens</td>\n",
       "    </tr>\n",
       "    <tr>\n",
       "      <th>19842</th>\n",
       "      <td>8</td>\n",
       "      <td>17.5</td>\n",
       "      <td>94.0</td>\n",
       "      <td>NaN</td>\n",
       "      <td>12:00:00</td>\n",
       "      <td>28-10-2019</td>\n",
       "      <td>Porto, S. Gens</td>\n",
       "    </tr>\n",
       "  </tbody>\n",
       "</table>\n",
       "<p>19843 rows × 7 columns</p>\n",
       "</div>"
      ],
      "text/plain": [
       "       tenant_id  temperature  humidity  pressure      time        date  \\\n",
       "0              0          9.7      84.0    1018.9  10:00:00  18-02-2019   \n",
       "1              0         10.6      81.0    1019.3  11:00:00  18-02-2019   \n",
       "2              0         13.3      65.0    1019.5  13:00:00  18-02-2019   \n",
       "3              0         14.2      59.0    1019.1  15:00:00  18-02-2019   \n",
       "4              0         14.0      56.0    1019.1  17:00:00  18-02-2019   \n",
       "...          ...          ...       ...       ...       ...         ...   \n",
       "19838          8         15.0      76.0       NaN  22:00:00  09-10-2019   \n",
       "19839          8         14.8      75.0       NaN  23:00:00  09-10-2019   \n",
       "19840          8         18.4      91.0       NaN  11:00:00  17-10-2019   \n",
       "19841          8         13.6      97.0       NaN  08:00:00  18-10-2019   \n",
       "19842          8         17.5      94.0       NaN  12:00:00  28-10-2019   \n",
       "\n",
       "              location  \n",
       "0      Porto, P.Rubras  \n",
       "1      Porto, P.Rubras  \n",
       "2      Porto, P.Rubras  \n",
       "3      Porto, P.Rubras  \n",
       "4      Porto, P.Rubras  \n",
       "...                ...  \n",
       "19838   Porto, S. Gens  \n",
       "19839   Porto, S. Gens  \n",
       "19840   Porto, S. Gens  \n",
       "19841   Porto, S. Gens  \n",
       "19842   Porto, S. Gens  \n",
       "\n",
       "[19843 rows x 7 columns]"
      ]
     },
     "execution_count": 59,
     "metadata": {},
     "output_type": "execute_result"
    }
   ],
   "source": [
    "met_cond"
   ]
  },
  {
   "cell_type": "code",
   "execution_count": 60,
   "id": "0e8e94f3",
   "metadata": {},
   "outputs": [
    {
     "name": "stdout",
     "output_type": "stream",
     "text": [
      "<class 'pandas.core.frame.DataFrame'>\n",
      "RangeIndex: 19843 entries, 0 to 19842\n",
      "Data columns (total 7 columns):\n",
      " #   Column       Non-Null Count  Dtype  \n",
      "---  ------       --------------  -----  \n",
      " 0   tenant_id    19843 non-null  int64  \n",
      " 1   temperature  19843 non-null  float64\n",
      " 2   humidity     19843 non-null  float64\n",
      " 3   pressure     13761 non-null  float64\n",
      " 4   time         19843 non-null  object \n",
      " 5   date         19843 non-null  object \n",
      " 6   location     19843 non-null  object \n",
      "dtypes: float64(3), int64(1), object(3)\n",
      "memory usage: 1.1+ MB\n"
     ]
    }
   ],
   "source": [
    "met_cond.info()"
   ]
  },
  {
   "cell_type": "markdown",
   "id": "d30cb59e",
   "metadata": {},
   "source": [
    "## thp_sensors"
   ]
  },
  {
   "cell_type": "code",
   "execution_count": 62,
   "id": "61fa3a8a",
   "metadata": {},
   "outputs": [],
   "source": [
    "thp_sensors[['temperature', 'humidity', 'pressure']]=thp_sensors[['temperature', 'humidity', 'pressure']].astype(float)\n",
    "thp_sensors.drop('linkquality',axis=1,inplace=True)\n",
    "thp_sensors.drop_duplicates(inplace=True)\n"
   ]
  },
  {
   "cell_type": "code",
   "execution_count": 63,
   "id": "cc7bb348",
   "metadata": {},
   "outputs": [
    {
     "data": {
      "text/html": [
       "<div>\n",
       "<style scoped>\n",
       "    .dataframe tbody tr th:only-of-type {\n",
       "        vertical-align: middle;\n",
       "    }\n",
       "\n",
       "    .dataframe tbody tr th {\n",
       "        vertical-align: top;\n",
       "    }\n",
       "\n",
       "    .dataframe thead th {\n",
       "        text-align: right;\n",
       "    }\n",
       "</style>\n",
       "<table border=\"1\" class=\"dataframe\">\n",
       "  <thead>\n",
       "    <tr style=\"text-align: right;\">\n",
       "      <th></th>\n",
       "      <th>tenant_id</th>\n",
       "      <th>temperature</th>\n",
       "      <th>humidity</th>\n",
       "      <th>pressure</th>\n",
       "      <th>time</th>\n",
       "      <th>date</th>\n",
       "    </tr>\n",
       "  </thead>\n",
       "  <tbody>\n",
       "    <tr>\n",
       "      <th>0</th>\n",
       "      <td>0</td>\n",
       "      <td>NaN</td>\n",
       "      <td>NaN</td>\n",
       "      <td>NaN</td>\n",
       "      <td>11:59:04</td>\n",
       "      <td>24-02-2019</td>\n",
       "    </tr>\n",
       "    <tr>\n",
       "      <th>2</th>\n",
       "      <td>0</td>\n",
       "      <td>NaN</td>\n",
       "      <td>NaN</td>\n",
       "      <td>NaN</td>\n",
       "      <td>11:59:09</td>\n",
       "      <td>24-02-2019</td>\n",
       "    </tr>\n",
       "    <tr>\n",
       "      <th>4</th>\n",
       "      <td>0</td>\n",
       "      <td>NaN</td>\n",
       "      <td>NaN</td>\n",
       "      <td>NaN</td>\n",
       "      <td>11:59:16</td>\n",
       "      <td>24-02-2019</td>\n",
       "    </tr>\n",
       "    <tr>\n",
       "      <th>5</th>\n",
       "      <td>0</td>\n",
       "      <td>NaN</td>\n",
       "      <td>NaN</td>\n",
       "      <td>NaN</td>\n",
       "      <td>11:59:18</td>\n",
       "      <td>24-02-2019</td>\n",
       "    </tr>\n",
       "    <tr>\n",
       "      <th>6</th>\n",
       "      <td>0</td>\n",
       "      <td>NaN</td>\n",
       "      <td>NaN</td>\n",
       "      <td>NaN</td>\n",
       "      <td>11:59:21</td>\n",
       "      <td>24-02-2019</td>\n",
       "    </tr>\n",
       "    <tr>\n",
       "      <th>...</th>\n",
       "      <td>...</td>\n",
       "      <td>...</td>\n",
       "      <td>...</td>\n",
       "      <td>...</td>\n",
       "      <td>...</td>\n",
       "      <td>...</td>\n",
       "    </tr>\n",
       "    <tr>\n",
       "      <th>683557</th>\n",
       "      <td>8</td>\n",
       "      <td>NaN</td>\n",
       "      <td>NaN</td>\n",
       "      <td>NaN</td>\n",
       "      <td>10:46:57</td>\n",
       "      <td>02-04-2020</td>\n",
       "    </tr>\n",
       "    <tr>\n",
       "      <th>683559</th>\n",
       "      <td>8</td>\n",
       "      <td>NaN</td>\n",
       "      <td>NaN</td>\n",
       "      <td>NaN</td>\n",
       "      <td>10:48:27</td>\n",
       "      <td>02-04-2020</td>\n",
       "    </tr>\n",
       "    <tr>\n",
       "      <th>683560</th>\n",
       "      <td>8</td>\n",
       "      <td>NaN</td>\n",
       "      <td>NaN</td>\n",
       "      <td>NaN</td>\n",
       "      <td>10:50:43</td>\n",
       "      <td>02-04-2020</td>\n",
       "    </tr>\n",
       "    <tr>\n",
       "      <th>683562</th>\n",
       "      <td>8</td>\n",
       "      <td>NaN</td>\n",
       "      <td>NaN</td>\n",
       "      <td>NaN</td>\n",
       "      <td>11:08:31</td>\n",
       "      <td>02-04-2020</td>\n",
       "    </tr>\n",
       "    <tr>\n",
       "      <th>683564</th>\n",
       "      <td>8</td>\n",
       "      <td>NaN</td>\n",
       "      <td>NaN</td>\n",
       "      <td>NaN</td>\n",
       "      <td>11:09:31</td>\n",
       "      <td>02-04-2020</td>\n",
       "    </tr>\n",
       "  </tbody>\n",
       "</table>\n",
       "<p>543879 rows × 6 columns</p>\n",
       "</div>"
      ],
      "text/plain": [
       "        tenant_id  temperature  humidity  pressure      time        date\n",
       "0               0          NaN       NaN       NaN  11:59:04  24-02-2019\n",
       "2               0          NaN       NaN       NaN  11:59:09  24-02-2019\n",
       "4               0          NaN       NaN       NaN  11:59:16  24-02-2019\n",
       "5               0          NaN       NaN       NaN  11:59:18  24-02-2019\n",
       "6               0          NaN       NaN       NaN  11:59:21  24-02-2019\n",
       "...           ...          ...       ...       ...       ...         ...\n",
       "683557          8          NaN       NaN       NaN  10:46:57  02-04-2020\n",
       "683559          8          NaN       NaN       NaN  10:48:27  02-04-2020\n",
       "683560          8          NaN       NaN       NaN  10:50:43  02-04-2020\n",
       "683562          8          NaN       NaN       NaN  11:08:31  02-04-2020\n",
       "683564          8          NaN       NaN       NaN  11:09:31  02-04-2020\n",
       "\n",
       "[543879 rows x 6 columns]"
      ]
     },
     "execution_count": 63,
     "metadata": {},
     "output_type": "execute_result"
    }
   ],
   "source": [
    "thp_sensors"
   ]
  },
  {
   "cell_type": "code",
   "execution_count": 64,
   "id": "043254b5",
   "metadata": {},
   "outputs": [
    {
     "name": "stdout",
     "output_type": "stream",
     "text": [
      "<class 'pandas.core.frame.DataFrame'>\n",
      "Int64Index: 543879 entries, 0 to 683564\n",
      "Data columns (total 6 columns):\n",
      " #   Column       Non-Null Count   Dtype  \n",
      "---  ------       --------------   -----  \n",
      " 0   tenant_id    543879 non-null  int64  \n",
      " 1   temperature  218785 non-null  float64\n",
      " 2   humidity     218764 non-null  float64\n",
      " 3   pressure     218744 non-null  float64\n",
      " 4   time         543879 non-null  object \n",
      " 5   date         543879 non-null  object \n",
      "dtypes: float64(3), int64(1), object(2)\n",
      "memory usage: 29.0+ MB\n"
     ]
    }
   ],
   "source": [
    "thp_sensors.info()"
   ]
  },
  {
   "cell_type": "markdown",
   "id": "ffcedebd",
   "metadata": {},
   "source": [
    "## feedback"
   ]
  },
  {
   "cell_type": "code",
   "execution_count": 73,
   "id": "c2a11120",
   "metadata": {},
   "outputs": [
    {
     "name": "stdout",
     "output_type": "stream",
     "text": [
      "Number of rows with feedback: 330\n"
     ]
    }
   ],
   "source": [
    "print('Number of rows with feedback:',feedback.shape[0]-feedback['feedback'].isna().sum())"
   ]
  },
  {
   "cell_type": "code",
   "execution_count": 78,
   "id": "d2efe795",
   "metadata": {},
   "outputs": [
    {
     "data": {
      "text/plain": [
       "tenant_id\n",
       "0    [02015D5C61CC, nan, status, feedback]\n",
       "1              [020149C615C5, nan, status]\n",
       "2              [020125BCE03A, nan, status]\n",
       "3              [02019D93DB3F, nan, status]\n",
       "4              [0201A17A7A16, nan, status]\n",
       "5    [nan, 02018FE9BE2C, status, feedback]\n",
       "6    [020177A7A91D, nan, status, feedback]\n",
       "7                  [status, nan, feedback]\n",
       "8              [020114A6A800, nan, status]\n",
       "Name: device, dtype: object"
      ]
     },
     "execution_count": 78,
     "metadata": {},
     "output_type": "execute_result"
    }
   ],
   "source": [
    "feedback.groupby('tenant_id')['device'].unique()"
   ]
  },
  {
   "cell_type": "code",
   "execution_count": 79,
   "id": "73efe725",
   "metadata": {},
   "outputs": [],
   "source": [
    "feedback.dropna(subset='feedback',inplace=True)\n",
    "feedback.drop(['state','device'],axis=1,inplace=True)"
   ]
  },
  {
   "cell_type": "code",
   "execution_count": 80,
   "id": "1a3c6e0e",
   "metadata": {},
   "outputs": [
    {
     "data": {
      "text/html": [
       "<div>\n",
       "<style scoped>\n",
       "    .dataframe tbody tr th:only-of-type {\n",
       "        vertical-align: middle;\n",
       "    }\n",
       "\n",
       "    .dataframe tbody tr th {\n",
       "        vertical-align: top;\n",
       "    }\n",
       "\n",
       "    .dataframe thead th {\n",
       "        text-align: right;\n",
       "    }\n",
       "</style>\n",
       "<table border=\"1\" class=\"dataframe\">\n",
       "  <thead>\n",
       "    <tr style=\"text-align: right;\">\n",
       "      <th></th>\n",
       "      <th>tenant_id</th>\n",
       "      <th>feedback</th>\n",
       "      <th>time</th>\n",
       "      <th>date</th>\n",
       "    </tr>\n",
       "  </thead>\n",
       "  <tbody>\n",
       "    <tr>\n",
       "      <th>135604</th>\n",
       "      <td>0</td>\n",
       "      <td>comfortable</td>\n",
       "      <td>18:49:42</td>\n",
       "      <td>12-11-2019</td>\n",
       "    </tr>\n",
       "    <tr>\n",
       "      <th>136544</th>\n",
       "      <td>0</td>\n",
       "      <td>comfortable</td>\n",
       "      <td>09:53:25</td>\n",
       "      <td>14-11-2019</td>\n",
       "    </tr>\n",
       "    <tr>\n",
       "      <th>137292</th>\n",
       "      <td>0</td>\n",
       "      <td>comfortable</td>\n",
       "      <td>12:11:46</td>\n",
       "      <td>15-11-2019</td>\n",
       "    </tr>\n",
       "    <tr>\n",
       "      <th>137538</th>\n",
       "      <td>0</td>\n",
       "      <td>comfortable</td>\n",
       "      <td>19:03:31</td>\n",
       "      <td>15-11-2019</td>\n",
       "    </tr>\n",
       "    <tr>\n",
       "      <th>140769</th>\n",
       "      <td>0</td>\n",
       "      <td>comfortable</td>\n",
       "      <td>17:04:28</td>\n",
       "      <td>23-11-2019</td>\n",
       "    </tr>\n",
       "    <tr>\n",
       "      <th>...</th>\n",
       "      <td>...</td>\n",
       "      <td>...</td>\n",
       "      <td>...</td>\n",
       "      <td>...</td>\n",
       "    </tr>\n",
       "    <tr>\n",
       "      <th>617643</th>\n",
       "      <td>7</td>\n",
       "      <td>comfortable</td>\n",
       "      <td>23:06:24</td>\n",
       "      <td>14-11-2019</td>\n",
       "    </tr>\n",
       "    <tr>\n",
       "      <th>617830</th>\n",
       "      <td>7</td>\n",
       "      <td>comfortable</td>\n",
       "      <td>12:25:11</td>\n",
       "      <td>15-11-2019</td>\n",
       "    </tr>\n",
       "    <tr>\n",
       "      <th>618135</th>\n",
       "      <td>7</td>\n",
       "      <td>comfortable</td>\n",
       "      <td>09:34:33</td>\n",
       "      <td>16-11-2019</td>\n",
       "    </tr>\n",
       "    <tr>\n",
       "      <th>623805</th>\n",
       "      <td>7</td>\n",
       "      <td>comfortable</td>\n",
       "      <td>13:56:15</td>\n",
       "      <td>06-12-2019</td>\n",
       "    </tr>\n",
       "    <tr>\n",
       "      <th>623878</th>\n",
       "      <td>7</td>\n",
       "      <td>comfortable</td>\n",
       "      <td>18:05:46</td>\n",
       "      <td>06-12-2019</td>\n",
       "    </tr>\n",
       "  </tbody>\n",
       "</table>\n",
       "<p>330 rows × 4 columns</p>\n",
       "</div>"
      ],
      "text/plain": [
       "        tenant_id     feedback      time        date\n",
       "135604          0  comfortable  18:49:42  12-11-2019\n",
       "136544          0  comfortable  09:53:25  14-11-2019\n",
       "137292          0  comfortable  12:11:46  15-11-2019\n",
       "137538          0  comfortable  19:03:31  15-11-2019\n",
       "140769          0  comfortable  17:04:28  23-11-2019\n",
       "...           ...          ...       ...         ...\n",
       "617643          7  comfortable  23:06:24  14-11-2019\n",
       "617830          7  comfortable  12:25:11  15-11-2019\n",
       "618135          7  comfortable  09:34:33  16-11-2019\n",
       "623805          7  comfortable  13:56:15  06-12-2019\n",
       "623878          7  comfortable  18:05:46  06-12-2019\n",
       "\n",
       "[330 rows x 4 columns]"
      ]
     },
     "execution_count": 80,
     "metadata": {},
     "output_type": "execute_result"
    }
   ],
   "source": [
    "feedback"
   ]
  },
  {
   "cell_type": "code",
   "execution_count": 81,
   "id": "32d38898",
   "metadata": {},
   "outputs": [
    {
     "name": "stdout",
     "output_type": "stream",
     "text": [
      "<class 'pandas.core.frame.DataFrame'>\n",
      "Int64Index: 330 entries, 135604 to 623878\n",
      "Data columns (total 4 columns):\n",
      " #   Column     Non-Null Count  Dtype \n",
      "---  ------     --------------  ----- \n",
      " 0   tenant_id  330 non-null    int64 \n",
      " 1   feedback   330 non-null    object\n",
      " 2   time       330 non-null    object\n",
      " 3   date       330 non-null    object\n",
      "dtypes: int64(1), object(3)\n",
      "memory usage: 12.9+ KB\n"
     ]
    }
   ],
   "source": [
    "feedback.info()"
   ]
  },
  {
   "cell_type": "markdown",
   "id": "bd632f9c",
   "metadata": {},
   "source": [
    "## dw_sensors"
   ]
  },
  {
   "cell_type": "code",
   "execution_count": 85,
   "id": "eef6f439",
   "metadata": {},
   "outputs": [],
   "source": [
    "dw_sensors.dropna(subset='linkquality',inplace=True)\n",
    "dw_sensors.drop('linkquality',axis=1,inplace=True)\n",
    "dw_sensors['contact'].replace({True:1,False:0},inplace=True)"
   ]
  },
  {
   "cell_type": "code",
   "execution_count": 86,
   "id": "4e9451fa",
   "metadata": {},
   "outputs": [
    {
     "data": {
      "text/html": [
       "<div>\n",
       "<style scoped>\n",
       "    .dataframe tbody tr th:only-of-type {\n",
       "        vertical-align: middle;\n",
       "    }\n",
       "\n",
       "    .dataframe tbody tr th {\n",
       "        vertical-align: top;\n",
       "    }\n",
       "\n",
       "    .dataframe thead th {\n",
       "        text-align: right;\n",
       "    }\n",
       "</style>\n",
       "<table border=\"1\" class=\"dataframe\">\n",
       "  <thead>\n",
       "    <tr style=\"text-align: right;\">\n",
       "      <th></th>\n",
       "      <th>tenant_id</th>\n",
       "      <th>contact</th>\n",
       "      <th>time</th>\n",
       "      <th>date</th>\n",
       "    </tr>\n",
       "  </thead>\n",
       "  <tbody>\n",
       "    <tr>\n",
       "      <th>90</th>\n",
       "      <td>0</td>\n",
       "      <td>NaN</td>\n",
       "      <td>11:59:04</td>\n",
       "      <td>24-02-2019</td>\n",
       "    </tr>\n",
       "    <tr>\n",
       "      <th>91</th>\n",
       "      <td>0</td>\n",
       "      <td>NaN</td>\n",
       "      <td>11:59:04</td>\n",
       "      <td>24-02-2019</td>\n",
       "    </tr>\n",
       "    <tr>\n",
       "      <th>92</th>\n",
       "      <td>0</td>\n",
       "      <td>NaN</td>\n",
       "      <td>11:59:09</td>\n",
       "      <td>24-02-2019</td>\n",
       "    </tr>\n",
       "    <tr>\n",
       "      <th>93</th>\n",
       "      <td>0</td>\n",
       "      <td>NaN</td>\n",
       "      <td>11:59:09</td>\n",
       "      <td>24-02-2019</td>\n",
       "    </tr>\n",
       "    <tr>\n",
       "      <th>94</th>\n",
       "      <td>0</td>\n",
       "      <td>NaN</td>\n",
       "      <td>11:59:16</td>\n",
       "      <td>24-02-2019</td>\n",
       "    </tr>\n",
       "    <tr>\n",
       "      <th>...</th>\n",
       "      <td>...</td>\n",
       "      <td>...</td>\n",
       "      <td>...</td>\n",
       "      <td>...</td>\n",
       "    </tr>\n",
       "    <tr>\n",
       "      <th>727720</th>\n",
       "      <td>8</td>\n",
       "      <td>NaN</td>\n",
       "      <td>10:50:43</td>\n",
       "      <td>02-04-2020</td>\n",
       "    </tr>\n",
       "    <tr>\n",
       "      <th>727722</th>\n",
       "      <td>8</td>\n",
       "      <td>NaN</td>\n",
       "      <td>11:08:31</td>\n",
       "      <td>02-04-2020</td>\n",
       "    </tr>\n",
       "    <tr>\n",
       "      <th>727723</th>\n",
       "      <td>8</td>\n",
       "      <td>NaN</td>\n",
       "      <td>11:08:31</td>\n",
       "      <td>02-04-2020</td>\n",
       "    </tr>\n",
       "    <tr>\n",
       "      <th>727724</th>\n",
       "      <td>8</td>\n",
       "      <td>NaN</td>\n",
       "      <td>11:09:31</td>\n",
       "      <td>02-04-2020</td>\n",
       "    </tr>\n",
       "    <tr>\n",
       "      <th>727725</th>\n",
       "      <td>8</td>\n",
       "      <td>NaN</td>\n",
       "      <td>11:09:31</td>\n",
       "      <td>02-04-2020</td>\n",
       "    </tr>\n",
       "  </tbody>\n",
       "</table>\n",
       "<p>683566 rows × 4 columns</p>\n",
       "</div>"
      ],
      "text/plain": [
       "        tenant_id  contact      time        date\n",
       "90              0      NaN  11:59:04  24-02-2019\n",
       "91              0      NaN  11:59:04  24-02-2019\n",
       "92              0      NaN  11:59:09  24-02-2019\n",
       "93              0      NaN  11:59:09  24-02-2019\n",
       "94              0      NaN  11:59:16  24-02-2019\n",
       "...           ...      ...       ...         ...\n",
       "727720          8      NaN  10:50:43  02-04-2020\n",
       "727722          8      NaN  11:08:31  02-04-2020\n",
       "727723          8      NaN  11:08:31  02-04-2020\n",
       "727724          8      NaN  11:09:31  02-04-2020\n",
       "727725          8      NaN  11:09:31  02-04-2020\n",
       "\n",
       "[683566 rows x 4 columns]"
      ]
     },
     "execution_count": 86,
     "metadata": {},
     "output_type": "execute_result"
    }
   ],
   "source": [
    "dw_sensors"
   ]
  },
  {
   "cell_type": "code",
   "execution_count": 87,
   "id": "8dda052b",
   "metadata": {},
   "outputs": [
    {
     "name": "stdout",
     "output_type": "stream",
     "text": [
      "<class 'pandas.core.frame.DataFrame'>\n",
      "Int64Index: 683566 entries, 90 to 727725\n",
      "Data columns (total 4 columns):\n",
      " #   Column     Non-Null Count   Dtype  \n",
      "---  ------     --------------   -----  \n",
      " 0   tenant_id  683566 non-null  int64  \n",
      " 1   contact    39750 non-null   float64\n",
      " 2   time       683566 non-null  object \n",
      " 3   date       683566 non-null  object \n",
      "dtypes: float64(1), int64(1), object(2)\n",
      "memory usage: 26.1+ MB\n"
     ]
    }
   ],
   "source": [
    "dw_sensors.info()"
   ]
  },
  {
   "cell_type": "markdown",
   "id": "c4acab90",
   "metadata": {},
   "source": [
    "## motion_sensors"
   ]
  },
  {
   "cell_type": "code",
   "execution_count": 101,
   "id": "c6fda433",
   "metadata": {},
   "outputs": [],
   "source": [
    "motion_sensors.dropna(subset='illuminance',inplace=True)\n",
    "\n",
    "motion_sensors['occupancy'].replace({True:1,False:0},inplace=True)\n",
    "\n",
    "motion_sensors['illuminance']=motion_sensors['illuminance'].astype(int)"
   ]
  },
  {
   "cell_type": "code",
   "execution_count": 102,
   "id": "b0eae207",
   "metadata": {},
   "outputs": [
    {
     "data": {
      "text/html": [
       "<div>\n",
       "<style scoped>\n",
       "    .dataframe tbody tr th:only-of-type {\n",
       "        vertical-align: middle;\n",
       "    }\n",
       "\n",
       "    .dataframe tbody tr th {\n",
       "        vertical-align: top;\n",
       "    }\n",
       "\n",
       "    .dataframe thead th {\n",
       "        text-align: right;\n",
       "    }\n",
       "</style>\n",
       "<table border=\"1\" class=\"dataframe\">\n",
       "  <thead>\n",
       "    <tr style=\"text-align: right;\">\n",
       "      <th></th>\n",
       "      <th>tenant_id</th>\n",
       "      <th>illuminance</th>\n",
       "      <th>occupancy</th>\n",
       "      <th>time</th>\n",
       "      <th>date</th>\n",
       "    </tr>\n",
       "  </thead>\n",
       "  <tbody>\n",
       "    <tr>\n",
       "      <th>90</th>\n",
       "      <td>0</td>\n",
       "      <td>6</td>\n",
       "      <td>NaN</td>\n",
       "      <td>11:59:04</td>\n",
       "      <td>24-02-2019</td>\n",
       "    </tr>\n",
       "    <tr>\n",
       "      <th>91</th>\n",
       "      <td>0</td>\n",
       "      <td>6</td>\n",
       "      <td>1.0</td>\n",
       "      <td>11:59:04</td>\n",
       "      <td>24-02-2019</td>\n",
       "    </tr>\n",
       "    <tr>\n",
       "      <th>92</th>\n",
       "      <td>0</td>\n",
       "      <td>1</td>\n",
       "      <td>1.0</td>\n",
       "      <td>11:59:09</td>\n",
       "      <td>24-02-2019</td>\n",
       "    </tr>\n",
       "    <tr>\n",
       "      <th>93</th>\n",
       "      <td>0</td>\n",
       "      <td>1</td>\n",
       "      <td>1.0</td>\n",
       "      <td>11:59:09</td>\n",
       "      <td>24-02-2019</td>\n",
       "    </tr>\n",
       "    <tr>\n",
       "      <th>94</th>\n",
       "      <td>0</td>\n",
       "      <td>2</td>\n",
       "      <td>1.0</td>\n",
       "      <td>11:59:16</td>\n",
       "      <td>24-02-2019</td>\n",
       "    </tr>\n",
       "    <tr>\n",
       "      <th>...</th>\n",
       "      <td>...</td>\n",
       "      <td>...</td>\n",
       "      <td>...</td>\n",
       "      <td>...</td>\n",
       "      <td>...</td>\n",
       "    </tr>\n",
       "    <tr>\n",
       "      <th>727720</th>\n",
       "      <td>8</td>\n",
       "      <td>34</td>\n",
       "      <td>1.0</td>\n",
       "      <td>10:50:43</td>\n",
       "      <td>02-04-2020</td>\n",
       "    </tr>\n",
       "    <tr>\n",
       "      <th>727722</th>\n",
       "      <td>8</td>\n",
       "      <td>40</td>\n",
       "      <td>1.0</td>\n",
       "      <td>11:08:31</td>\n",
       "      <td>02-04-2020</td>\n",
       "    </tr>\n",
       "    <tr>\n",
       "      <th>727723</th>\n",
       "      <td>8</td>\n",
       "      <td>40</td>\n",
       "      <td>1.0</td>\n",
       "      <td>11:08:31</td>\n",
       "      <td>02-04-2020</td>\n",
       "    </tr>\n",
       "    <tr>\n",
       "      <th>727724</th>\n",
       "      <td>8</td>\n",
       "      <td>41</td>\n",
       "      <td>1.0</td>\n",
       "      <td>11:09:31</td>\n",
       "      <td>02-04-2020</td>\n",
       "    </tr>\n",
       "    <tr>\n",
       "      <th>727725</th>\n",
       "      <td>8</td>\n",
       "      <td>41</td>\n",
       "      <td>1.0</td>\n",
       "      <td>11:09:31</td>\n",
       "      <td>02-04-2020</td>\n",
       "    </tr>\n",
       "  </tbody>\n",
       "</table>\n",
       "<p>409250 rows × 5 columns</p>\n",
       "</div>"
      ],
      "text/plain": [
       "        tenant_id  illuminance  occupancy      time        date\n",
       "90              0            6        NaN  11:59:04  24-02-2019\n",
       "91              0            6        1.0  11:59:04  24-02-2019\n",
       "92              0            1        1.0  11:59:09  24-02-2019\n",
       "93              0            1        1.0  11:59:09  24-02-2019\n",
       "94              0            2        1.0  11:59:16  24-02-2019\n",
       "...           ...          ...        ...       ...         ...\n",
       "727720          8           34        1.0  10:50:43  02-04-2020\n",
       "727722          8           40        1.0  11:08:31  02-04-2020\n",
       "727723          8           40        1.0  11:08:31  02-04-2020\n",
       "727724          8           41        1.0  11:09:31  02-04-2020\n",
       "727725          8           41        1.0  11:09:31  02-04-2020\n",
       "\n",
       "[409250 rows x 5 columns]"
      ]
     },
     "execution_count": 102,
     "metadata": {},
     "output_type": "execute_result"
    }
   ],
   "source": [
    "motion_sensors"
   ]
  },
  {
   "cell_type": "code",
   "execution_count": 103,
   "id": "4284c02a",
   "metadata": {},
   "outputs": [
    {
     "name": "stdout",
     "output_type": "stream",
     "text": [
      "<class 'pandas.core.frame.DataFrame'>\n",
      "Int64Index: 409250 entries, 90 to 727725\n",
      "Data columns (total 5 columns):\n",
      " #   Column       Non-Null Count   Dtype  \n",
      "---  ------       --------------   -----  \n",
      " 0   tenant_id    409250 non-null  int64  \n",
      " 1   illuminance  409250 non-null  int64  \n",
      " 2   occupancy    409153 non-null  float64\n",
      " 3   time         409250 non-null  object \n",
      " 4   date         409250 non-null  object \n",
      "dtypes: float64(1), int64(2), object(2)\n",
      "memory usage: 18.7+ MB\n"
     ]
    }
   ],
   "source": [
    "motion_sensors.info()"
   ]
  },
  {
   "cell_type": "markdown",
   "id": "b068d478",
   "metadata": {},
   "source": [
    "--------"
   ]
  },
  {
   "cell_type": "markdown",
   "id": "d7094ea8",
   "metadata": {},
   "source": [
    "# <center>Export Data to MySQL"
   ]
  },
  {
   "cell_type": "code",
   "execution_count": 107,
   "id": "a7e5e40a",
   "metadata": {},
   "outputs": [
    {
     "data": {
      "text/plain": [
       "409250"
      ]
     },
     "execution_count": 107,
     "metadata": {},
     "output_type": "execute_result"
    }
   ],
   "source": [
    "tenant_table.to_sql('tenant_table', f.engine, if_exists='replace', index=False)\n",
    "met_cond.to_sql('met_cond', f.engine, if_exists='replace', index=False)\n",
    "thp_sensors.to_sql('thp_sensors', f.engine, if_exists='replace', index=False)\n",
    "feedback.to_sql('feedback', f.engine, if_exists='replace', index=False)\n",
    "dw_sensors.to_sql('dw_sensors', f.engine, if_exists='replace', index=False)\n",
    "motion_sensors.to_sql('motion_sensors', f.engine, if_exists='replace', index=False)"
   ]
  },
  {
   "cell_type": "markdown",
   "id": "bf27b79e",
   "metadata": {},
   "source": [
    "-------"
   ]
  },
  {
   "cell_type": "markdown",
   "id": "c9c53b1c",
   "metadata": {},
   "source": [
    "------"
   ]
  }
 ],
 "metadata": {
  "kernelspec": {
   "display_name": "Python 3 (ipykernel)",
   "language": "python",
   "name": "python3"
  },
  "language_info": {
   "codemirror_mode": {
    "name": "ipython",
    "version": 3
   },
   "file_extension": ".py",
   "mimetype": "text/x-python",
   "name": "python",
   "nbconvert_exporter": "python",
   "pygments_lexer": "ipython3",
   "version": "3.9.15"
  }
 },
 "nbformat": 4,
 "nbformat_minor": 5
}
